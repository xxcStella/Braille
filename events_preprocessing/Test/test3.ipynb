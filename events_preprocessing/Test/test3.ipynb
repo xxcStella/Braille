{
 "cells": [
  {
   "cell_type": "code",
   "execution_count": 1,
   "metadata": {},
   "outputs": [],
   "source": [
    "import sys\n",
    "sys.path.append('..')\n",
    "\n",
    "import input_process\n",
    "import pickle\n",
    "import numpy as np\n",
    "import os"
   ]
  },
  {
   "cell_type": "code",
   "execution_count": 21,
   "metadata": {},
   "outputs": [],
   "source": [
    "old_path = 'F:/Files/PhD/Braille/Data/braille-27letters-sphere/effect-xyposition/xyposition-r1.5-depth2.5/events-part2'\n",
    "# new_path = 'F:/Files/PhD/Braille/Data/braille-27letters-sphere/effect-xyposition/xyposition-r1.5-depth2.5/events-part2'\n",
    "new_path = 'F:/Files/PhD/Braille/Code/Events_Examples/Experiment_Data/rawData/'"
   ]
  },
  {
   "cell_type": "markdown",
   "metadata": {},
   "source": [
    "原始数据批量修改名称"
   ]
  },
  {
   "cell_type": "code",
   "execution_count": null,
   "metadata": {},
   "outputs": [],
   "source": [
    "for filename in os.listdir(new_path):\n",
    "    num = \"\"\n",
    "    i = 11\n",
    "    while filename[i] != '_':\n",
    "        num += filename[i]\n",
    "        i += 1\n",
    "    num = eval(num) + 206\n",
    "    new_filename = filename[0:11] + str(num) + filename[i:]\n",
    "    # print(filename, ';', new_filename)\n",
    "    # print(os.path.join(new_path, filename))\n",
    "    # print(os.path.join(new_path, new_filename))\n",
    "    # break\n",
    "    os.rename(os.path.join(new_path, filename), os.path.join(new_path, new_filename))"
   ]
  },
  {
   "cell_type": "code",
   "execution_count": null,
   "metadata": {},
   "outputs": [],
   "source": []
  },
  {
   "cell_type": "code",
   "execution_count": 23,
   "metadata": {},
   "outputs": [],
   "source": [
    "for filename in os.listdir(new_path):\n",
    "    num = \"\"\n",
    "    i = 11\n",
    "    while filename[i] != '_':\n",
    "        num += filename[i]\n",
    "        i += 1\n",
    "    num = eval(num) + 50\n",
    "    new_filename = filename[0:11] + str(num) + filename[i:]\n",
    "    # print(filename, ';', new_filename)\n",
    "    # print(os.path.join(new_path, filename))\n",
    "    # print(os.path.join(new_path, new_filename))\n",
    "    # break\n",
    "    os.rename(os.path.join(new_path, filename), os.path.join(new_path, new_filename))"
   ]
  },
  {
   "cell_type": "code",
   "execution_count": null,
   "metadata": {},
   "outputs": [],
   "source": []
  },
  {
   "cell_type": "markdown",
   "metadata": {},
   "source": [
    "修改数据类型，减少大小"
   ]
  },
  {
   "cell_type": "code",
   "execution_count": 20,
   "metadata": {},
   "outputs": [],
   "source": [
    "path = 'F:/Files/PhD/Braille/Code/Events_Examples/Experiment_Data/processedData'\n",
    "for file in os.listdir(path):\n",
    "    with open(os.path.join(path, file), 'rb') as f:\n",
    "        f = np.load(f)\n",
    "        f = f.astype(np.int8)\n",
    "        np.save(os.path.join(path, file), f)"
   ]
  },
  {
   "cell_type": "code",
   "execution_count": null,
   "metadata": {},
   "outputs": [],
   "source": []
  }
 ],
 "metadata": {
  "kernelspec": {
   "display_name": "SynSense",
   "language": "python",
   "name": "python3"
  },
  "language_info": {
   "codemirror_mode": {
    "name": "ipython",
    "version": 3
   },
   "file_extension": ".py",
   "mimetype": "text/x-python",
   "name": "python",
   "nbconvert_exporter": "python",
   "pygments_lexer": "ipython3",
   "version": "3.8.18"
  }
 },
 "nbformat": 4,
 "nbformat_minor": 2
}
