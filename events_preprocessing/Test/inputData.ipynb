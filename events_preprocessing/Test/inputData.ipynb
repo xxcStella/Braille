{
 "cells": [
  {
   "cell_type": "code",
   "execution_count": 1,
   "metadata": {},
   "outputs": [],
   "source": [
    "import os\n",
    "import pickle\n",
    "import numpy as np\n",
    "import matplotlib.pyplot as plt\n",
    "import matplotlib.image as img"
   ]
  },
  {
   "cell_type": "code",
   "execution_count": 4,
   "metadata": {},
   "outputs": [
    {
     "name": "stdout",
     "output_type": "stream",
     "text": [
      "(81, 1200)\n",
      "701\n"
     ]
    }
   ],
   "source": [
    "file_path='D:\\PersonalFiles\\Bristol\\GraduationThesis\\Code\\Events_Examples/tempFigData\\input_trial_2_pose_2.npy'\n",
    "t = np.load(file_path)\n",
    "print(t.shape)\n",
    "print(t.sum())"
   ]
  },
  {
   "cell_type": "code",
   "execution_count": 6,
   "metadata": {},
   "outputs": [
    {
     "name": "stdout",
     "output_type": "stream",
     "text": [
      "(15, 81, 1200)\n"
     ]
    }
   ],
   "source": [
    "input_data = np.zeros([15, 81, 1200])\n",
    "print(input_data.shape)"
   ]
  },
  {
   "cell_type": "code",
   "execution_count": 18,
   "metadata": {},
   "outputs": [],
   "source": [
    "# depths: 1,2,3mm, each of 5 groups\n",
    "base_path = 'D:\\PersonalFiles\\Bristol\\GraduationThesis\\Code\\Events_Examples/tempFigData\\input_trial_'\n",
    "pose = [0,2,4]\n",
    "for i in range(5):\n",
    "    for j in range(3):\n",
    "        file_path = base_path + str(i) + '_pose_' + str(pose[j]) + '.npy'\n",
    "        input_file = np.load(file_path)\n",
    "        input_data[3*i + j] = input_file\n",
    "save_path = 'D:\\PersonalFiles\\Bristol\\GraduationThesis\\Code\\Events_Examples\\Experiment_Data\\inputData/input.npy'\n",
    "np.save(save_path, input_data)"
   ]
  },
  {
   "cell_type": "code",
   "execution_count": 8,
   "metadata": {},
   "outputs": [
    {
     "name": "stdout",
     "output_type": "stream",
     "text": [
      "(10, 81, 1200)\n"
     ]
    }
   ],
   "source": [
    "# depths: 2mm, 10 groups\n",
    "input_data = np.zeros([10, 81, 1200])\n",
    "print(input_data.shape)\n",
    "\n",
    "base_path = 'D:\\PersonalFiles\\Bristol\\GraduationThesis\\Code\\Events_Examples/tempFigData\\input_trial_'\n",
    "for i in range(10):\n",
    "    file_path = base_path + str(i) + '_pose_2.npy'\n",
    "    input_file = np.load(file_path)\n",
    "    input_data[i] = input_file\n",
    "save_path = 'D:\\PersonalFiles\\Bristol\\GraduationThesis\\Code\\Events_Examples\\Experiment_Data\\inputData\\depth2-10groups/input-depth2-10groups.npy'\n",
    "np.save(save_path, input_data)"
   ]
  },
  {
   "cell_type": "code",
   "execution_count": 2,
   "metadata": {},
   "outputs": [
    {
     "name": "stdout",
     "output_type": "stream",
     "text": [
      "(100, 81, 1200)\n"
     ]
    }
   ],
   "source": [
    "# depths: 2mm, 100 groups\n",
    "input_data = np.zeros([100, 81, 1200])\n",
    "print(input_data.shape)\n",
    "\n",
    "base_path = 'D:\\PersonalFiles\\Bristol\\GraduationThesis\\Code\\Events_Examples/Experiment_Data/processedData\\input_trial_'\n",
    "for i in range(100):\n",
    "    file_path = base_path + str(i) + '_pose_2.npy'\n",
    "    input_file = np.load(file_path)\n",
    "    input_data[i] = input_file\n",
    "save_path = 'D:\\PersonalFiles\\Bristol\\GraduationThesis\\Code\\Events_Examples\\Experiment_Data\\inputData\\depth2-100groups/input-depth2-100groups.npy'\n",
    "np.save(save_path, input_data)"
   ]
  },
  {
   "cell_type": "code",
   "execution_count": null,
   "metadata": {},
   "outputs": [],
   "source": []
  }
 ],
 "metadata": {
  "kernelspec": {
   "display_name": "TouchSim",
   "language": "python",
   "name": "python3"
  },
  "language_info": {
   "codemirror_mode": {
    "name": "ipython",
    "version": 3
   },
   "file_extension": ".py",
   "mimetype": "text/x-python",
   "name": "python",
   "nbconvert_exporter": "python",
   "pygments_lexer": "ipython3",
   "version": "3.7.16"
  },
  "orig_nbformat": 4
 },
 "nbformat": 4,
 "nbformat_minor": 2
}
