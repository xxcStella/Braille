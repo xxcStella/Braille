{
 "cells": [
  {
   "cell_type": "code",
   "execution_count": 1,
   "metadata": {},
   "outputs": [
    {
     "name": "stdout",
     "output_type": "stream",
     "text": [
      "True\n"
     ]
    }
   ],
   "source": [
    "import pickle\n",
    "import numpy as np\n",
    "import torch\n",
    "import torch.nn as nn\n",
    "from torch.utils.data import Dataset, DataLoader, random_split, Subset\n",
    "import torchvision\n",
    "import matplotlib.pyplot as plt\n",
    "import sinabs\n",
    "import sinabs.activation\n",
    "import sinabs.layers as sl\n",
    "from sinabs.from_torch import from_model\n",
    "import os\n",
    "import shutil\n",
    "from sklearn.model_selection import KFold\n",
    "print(torch.cuda.is_available())\n",
    "torch.cuda.get_device_name(0)\n",
    "torch.cuda.empty_cache()"
   ]
  },
  {
   "cell_type": "markdown",
   "metadata": {},
   "source": [
    "Data"
   ]
  },
  {
   "cell_type": "code",
   "execution_count": 2,
   "metadata": {},
   "outputs": [],
   "source": [
    "class MyData(Dataset):\n",
    "    def __init__(self, root_dir):\n",
    "        self.root_dir = root_dir\n",
    "        self.data_path = os.listdir(self.root_dir)\n",
    "    \n",
    "    def __getitem__(self, idx):\n",
    "        data_name = self.data_path[idx]\n",
    "        data_item_path = os.path.join(self.root_dir, data_name)\n",
    "        with open(data_item_path, 'rb') as f:\n",
    "            data = np.load(f)\n",
    "\n",
    "        # ############## 测试压缩后的性能 ##############\n",
    "        # data_zeros = np.zeros((100, 350))\n",
    "        # data_zeros += data[:, ::2] + data[:, 1::2]\n",
    "        # data = data_zeros\n",
    "        # #############################################\n",
    "\n",
    "        data = torch.from_numpy(data).float()\n",
    "        data = torch.transpose(data, 0, 1)\n",
    "\n",
    "        if data_name[-6] == '_':\n",
    "            label = torch.tensor(eval(data_name[-5]), dtype=torch.long)\n",
    "        else:\n",
    "            label = torch.tensor(eval(data_name[-6:-4]), dtype=torch.long)\n",
    "        \n",
    "        return data, label\n",
    "\n",
    "    def __len__(self):\n",
    "        return len(self.data_path)\n",
    "\n",
    "root_dir_1 = 'F:\\Files\\PhD/Braille\\Data/braille-27letters-sphere/effect-speed/speed-v30-depth2.5/compress-test/compresstime-330/train'\n",
    "root_dir_2 = 'F:\\Files\\PhD/Braille\\Data/braille-27letters-sphere/effect-speed/speed-v30-depth2.5/compress-test/compresstime-330/test'\n",
    "\n",
    "train_data = MyData(root_dir_1)\n",
    "test_data  = MyData(root_dir_2)"
   ]
  },
  {
   "cell_type": "code",
   "execution_count": 4,
   "metadata": {},
   "outputs": [
    {
     "name": "stdout",
     "output_type": "stream",
     "text": [
      "torch.Size([330, 100])\n",
      "2160 1080\n"
     ]
    }
   ],
   "source": [
    "print(train_data[0][0].shape)\n",
    "print(len(train_data), len(test_data))"
   ]
  },
  {
   "cell_type": "markdown",
   "metadata": {},
   "source": [
    "Training"
   ]
  },
  {
   "cell_type": "code",
   "execution_count": 5,
   "metadata": {},
   "outputs": [
    {
     "name": "stderr",
     "output_type": "stream",
     "text": [
      "f:\\Softwares\\Professional\\Anaconda3\\envs\\synsense-gpu\\lib\\site-packages\\torch\\optim\\lr_scheduler.py:136: UserWarning: Detected call of `lr_scheduler.step()` before `optimizer.step()`. In PyTorch 1.1.0 and later, you should call them in the opposite order: `optimizer.step()` before `lr_scheduler.step()`.  Failure to do this will result in PyTorch skipping the first value of the learning rate schedule. See more details at https://pytorch.org/docs/stable/optim.html#how-to-adjust-learning-rate\n",
      "  warnings.warn(\"Detected call of `lr_scheduler.step()` before `optimizer.step()`. \"\n"
     ]
    },
    {
     "name": "stdout",
     "output_type": "stream",
     "text": [
      "epoch: 0, accuracy: 4.32%, running_loss: 65.90, current_lr: 0.000100\n",
      "epoch: 1, accuracy: 5.74%, running_loss: 65.79, current_lr: 0.000100\n",
      "epoch: 2, accuracy: 7.28%, running_loss: 64.81, current_lr: 0.000100\n",
      "epoch: 3, accuracy: 9.75%, running_loss: 63.22, current_lr: 0.000100\n",
      "epoch: 4, accuracy: 12.53%, running_loss: 61.75, current_lr: 0.000100\n",
      "epoch: 5, accuracy: 17.47%, running_loss: 58.58, current_lr: 0.000100\n",
      "epoch: 6, accuracy: 30.12%, running_loss: 51.18, current_lr: 0.000100\n",
      "epoch: 7, accuracy: 42.84%, running_loss: 40.23, current_lr: 0.000100\n",
      "epoch: 8, accuracy: 53.15%, running_loss: 31.52, current_lr: 0.000100\n",
      "epoch: 9, accuracy: 62.59%, running_loss: 24.13, current_lr: 0.000100\n",
      "epoch: 10, accuracy: 70.49%, running_loss: 19.51, current_lr: 0.000100\n",
      "epoch: 11, accuracy: 73.70%, running_loss: 17.62, current_lr: 0.000100\n",
      "epoch: 12, accuracy: 79.63%, running_loss: 12.63, current_lr: 0.000100\n",
      "epoch: 13, accuracy: 82.53%, running_loss: 10.38, current_lr: 0.000100\n",
      "epoch: 14, accuracy: 84.44%, running_loss: 8.72, current_lr: 0.000100\n",
      "epoch: 15, accuracy: 85.31%, running_loss: 8.93, current_lr: 0.000100\n",
      "epoch: 16, accuracy: 88.95%, running_loss: 6.54, current_lr: 0.000100\n",
      "epoch: 17, accuracy: 89.57%, running_loss: 6.66, current_lr: 0.000100\n",
      "epoch: 18, accuracy: 89.32%, running_loss: 6.49, current_lr: 0.000100\n",
      "epoch: 19, accuracy: 93.09%, running_loss: 4.05, current_lr: 0.000010\n",
      "epoch: 20, accuracy: 93.46%, running_loss: 4.09, current_lr: 0.000010\n",
      "epoch: 21, accuracy: 93.83%, running_loss: 3.42, current_lr: 0.000010\n",
      "epoch: 22, accuracy: 93.95%, running_loss: 3.58, current_lr: 0.000010\n",
      "epoch: 23, accuracy: 95.19%, running_loss: 3.09, current_lr: 0.000010\n",
      "epoch: 24, accuracy: 93.83%, running_loss: 3.78, current_lr: 0.000010\n",
      "epoch: 25, accuracy: 94.01%, running_loss: 3.50, current_lr: 0.000010\n",
      "epoch: 26, accuracy: 94.88%, running_loss: 2.77, current_lr: 0.000010\n",
      "epoch: 27, accuracy: 95.56%, running_loss: 2.72, current_lr: 0.000010\n",
      "epoch: 28, accuracy: 94.81%, running_loss: 2.69, current_lr: 0.000010\n",
      "epoch: 29, accuracy: 94.63%, running_loss: 3.25, current_lr: 0.000010\n",
      "epoch: 30, accuracy: 95.43%, running_loss: 2.57, current_lr: 0.000010\n",
      "epoch: 31, accuracy: 95.86%, running_loss: 2.28, current_lr: 0.000010\n",
      "epoch: 32, accuracy: 95.19%, running_loss: 2.63, current_lr: 0.000010\n",
      "epoch: 33, accuracy: 95.31%, running_loss: 2.32, current_lr: 0.000010\n",
      "epoch: 34, accuracy: 95.25%, running_loss: 2.81, current_lr: 0.000010\n",
      "epoch: 35, accuracy: 95.43%, running_loss: 2.46, current_lr: 0.000010\n",
      "epoch: 36, accuracy: 95.19%, running_loss: 2.56, current_lr: 0.000010\n",
      "epoch: 37, accuracy: 95.31%, running_loss: 2.55, current_lr: 0.000010\n",
      "epoch: 38, accuracy: 95.56%, running_loss: 2.50, current_lr: 0.000010\n",
      "epoch: 39, accuracy: 95.86%, running_loss: 2.25, current_lr: 0.000001\n",
      "accuracy on validation set: 86.11%\n",
      "epoch: 0, accuracy: 3.70%, running_loss: 65.93, current_lr: 0.000100\n",
      "epoch: 1, accuracy: 4.88%, running_loss: 65.74, current_lr: 0.000100\n",
      "epoch: 2, accuracy: 7.65%, running_loss: 64.97, current_lr: 0.000100\n",
      "epoch: 3, accuracy: 8.70%, running_loss: 63.80, current_lr: 0.000100\n",
      "epoch: 4, accuracy: 12.84%, running_loss: 61.26, current_lr: 0.000100\n",
      "epoch: 5, accuracy: 19.07%, running_loss: 57.26, current_lr: 0.000100\n",
      "epoch: 6, accuracy: 31.11%, running_loss: 48.72, current_lr: 0.000100\n",
      "epoch: 7, accuracy: 47.10%, running_loss: 37.13, current_lr: 0.000100\n",
      "epoch: 8, accuracy: 57.53%, running_loss: 28.14, current_lr: 0.000100\n",
      "epoch: 9, accuracy: 64.69%, running_loss: 22.34, current_lr: 0.000100\n",
      "epoch: 10, accuracy: 71.30%, running_loss: 17.28, current_lr: 0.000100\n",
      "epoch: 11, accuracy: 77.72%, running_loss: 13.38, current_lr: 0.000100\n",
      "epoch: 12, accuracy: 81.85%, running_loss: 12.14, current_lr: 0.000100\n",
      "epoch: 13, accuracy: 83.09%, running_loss: 11.41, current_lr: 0.000100\n",
      "epoch: 14, accuracy: 85.25%, running_loss: 8.64, current_lr: 0.000100\n",
      "epoch: 15, accuracy: 86.98%, running_loss: 6.91, current_lr: 0.000100\n",
      "epoch: 16, accuracy: 88.83%, running_loss: 6.57, current_lr: 0.000100\n",
      "epoch: 17, accuracy: 90.43%, running_loss: 5.62, current_lr: 0.000100\n",
      "epoch: 18, accuracy: 90.74%, running_loss: 5.00, current_lr: 0.000100\n",
      "epoch: 19, accuracy: 92.90%, running_loss: 3.86, current_lr: 0.000010\n",
      "epoch: 20, accuracy: 95.12%, running_loss: 2.85, current_lr: 0.000010\n",
      "epoch: 21, accuracy: 94.14%, running_loss: 3.08, current_lr: 0.000010\n",
      "epoch: 22, accuracy: 93.64%, running_loss: 3.39, current_lr: 0.000010\n",
      "epoch: 23, accuracy: 94.14%, running_loss: 3.52, current_lr: 0.000010\n",
      "epoch: 24, accuracy: 93.64%, running_loss: 3.83, current_lr: 0.000010\n",
      "epoch: 25, accuracy: 94.57%, running_loss: 3.23, current_lr: 0.000010\n",
      "epoch: 26, accuracy: 94.20%, running_loss: 3.20, current_lr: 0.000010\n",
      "epoch: 27, accuracy: 95.12%, running_loss: 2.91, current_lr: 0.000010\n",
      "epoch: 28, accuracy: 94.94%, running_loss: 2.69, current_lr: 0.000010\n",
      "epoch: 29, accuracy: 96.05%, running_loss: 2.58, current_lr: 0.000010\n",
      "epoch: 30, accuracy: 95.31%, running_loss: 2.67, current_lr: 0.000010\n",
      "epoch: 31, accuracy: 95.80%, running_loss: 2.41, current_lr: 0.000010\n",
      "epoch: 32, accuracy: 94.63%, running_loss: 2.94, current_lr: 0.000010\n",
      "epoch: 33, accuracy: 95.12%, running_loss: 2.53, current_lr: 0.000010\n",
      "epoch: 34, accuracy: 94.32%, running_loss: 2.86, current_lr: 0.000010\n",
      "epoch: 35, accuracy: 96.36%, running_loss: 2.00, current_lr: 0.000010\n",
      "epoch: 36, accuracy: 97.10%, running_loss: 1.77, current_lr: 0.000010\n",
      "epoch: 37, accuracy: 94.94%, running_loss: 2.76, current_lr: 0.000010\n",
      "epoch: 38, accuracy: 95.19%, running_loss: 2.29, current_lr: 0.000010\n",
      "epoch: 39, accuracy: 96.11%, running_loss: 2.20, current_lr: 0.000001\n",
      "accuracy on validation set: 86.85%\n",
      "epoch: 0, accuracy: 3.77%, running_loss: 65.94, current_lr: 0.000100\n",
      "epoch: 1, accuracy: 5.43%, running_loss: 66.00, current_lr: 0.000100\n",
      "epoch: 2, accuracy: 7.35%, running_loss: 64.59, current_lr: 0.000100\n",
      "epoch: 3, accuracy: 10.86%, running_loss: 62.66, current_lr: 0.000100\n",
      "epoch: 4, accuracy: 13.21%, running_loss: 61.56, current_lr: 0.000100\n",
      "epoch: 5, accuracy: 17.53%, running_loss: 58.64, current_lr: 0.000100\n",
      "epoch: 6, accuracy: 26.30%, running_loss: 52.58, current_lr: 0.000100\n",
      "epoch: 7, accuracy: 41.30%, running_loss: 41.07, current_lr: 0.000100\n",
      "epoch: 8, accuracy: 49.14%, running_loss: 34.22, current_lr: 0.000100\n",
      "epoch: 9, accuracy: 58.33%, running_loss: 28.23, current_lr: 0.000100\n",
      "epoch: 10, accuracy: 64.14%, running_loss: 23.78, current_lr: 0.000100\n",
      "epoch: 11, accuracy: 69.81%, running_loss: 20.20, current_lr: 0.000100\n",
      "epoch: 12, accuracy: 73.89%, running_loss: 17.60, current_lr: 0.000100\n",
      "epoch: 13, accuracy: 80.37%, running_loss: 12.21, current_lr: 0.000100\n",
      "epoch: 14, accuracy: 81.60%, running_loss: 10.87, current_lr: 0.000100\n",
      "epoch: 15, accuracy: 80.80%, running_loss: 11.54, current_lr: 0.000100\n",
      "epoch: 16, accuracy: 84.44%, running_loss: 9.88, current_lr: 0.000100\n",
      "epoch: 17, accuracy: 87.04%, running_loss: 8.58, current_lr: 0.000100\n",
      "epoch: 18, accuracy: 88.21%, running_loss: 6.89, current_lr: 0.000100\n",
      "epoch: 19, accuracy: 90.37%, running_loss: 5.52, current_lr: 0.000010\n",
      "epoch: 20, accuracy: 91.23%, running_loss: 4.99, current_lr: 0.000010\n",
      "epoch: 21, accuracy: 91.98%, running_loss: 5.20, current_lr: 0.000010\n",
      "epoch: 22, accuracy: 92.47%, running_loss: 4.34, current_lr: 0.000010\n",
      "epoch: 23, accuracy: 91.67%, running_loss: 4.87, current_lr: 0.000010\n",
      "epoch: 24, accuracy: 91.48%, running_loss: 4.99, current_lr: 0.000010\n",
      "epoch: 25, accuracy: 93.09%, running_loss: 4.10, current_lr: 0.000010\n",
      "epoch: 26, accuracy: 91.79%, running_loss: 4.60, current_lr: 0.000010\n",
      "epoch: 27, accuracy: 92.65%, running_loss: 4.17, current_lr: 0.000010\n",
      "epoch: 28, accuracy: 93.09%, running_loss: 4.03, current_lr: 0.000010\n",
      "epoch: 29, accuracy: 93.52%, running_loss: 3.84, current_lr: 0.000010\n",
      "epoch: 30, accuracy: 92.41%, running_loss: 4.38, current_lr: 0.000010\n",
      "epoch: 31, accuracy: 94.07%, running_loss: 3.60, current_lr: 0.000010\n",
      "epoch: 32, accuracy: 93.33%, running_loss: 3.44, current_lr: 0.000010\n",
      "epoch: 33, accuracy: 92.90%, running_loss: 3.87, current_lr: 0.000010\n",
      "epoch: 34, accuracy: 93.89%, running_loss: 3.56, current_lr: 0.000010\n",
      "epoch: 35, accuracy: 93.52%, running_loss: 3.60, current_lr: 0.000010\n",
      "epoch: 36, accuracy: 94.20%, running_loss: 3.81, current_lr: 0.000010\n",
      "epoch: 37, accuracy: 94.44%, running_loss: 3.47, current_lr: 0.000010\n",
      "epoch: 38, accuracy: 94.88%, running_loss: 3.16, current_lr: 0.000010\n",
      "epoch: 39, accuracy: 93.70%, running_loss: 3.35, current_lr: 0.000001\n",
      "accuracy on validation set: 84.81%\n",
      "epoch: 0, accuracy: 3.77%, running_loss: 65.92, current_lr: 0.000100\n",
      "epoch: 1, accuracy: 4.69%, running_loss: 65.68, current_lr: 0.000100\n",
      "epoch: 2, accuracy: 7.28%, running_loss: 64.79, current_lr: 0.000100\n",
      "epoch: 3, accuracy: 8.95%, running_loss: 63.59, current_lr: 0.000100\n",
      "epoch: 4, accuracy: 14.26%, running_loss: 61.51, current_lr: 0.000100\n",
      "epoch: 5, accuracy: 19.44%, running_loss: 56.82, current_lr: 0.000100\n",
      "epoch: 6, accuracy: 32.53%, running_loss: 48.21, current_lr: 0.000100\n",
      "epoch: 7, accuracy: 50.06%, running_loss: 35.67, current_lr: 0.000100\n",
      "epoch: 8, accuracy: 55.93%, running_loss: 30.72, current_lr: 0.000100\n",
      "epoch: 9, accuracy: 64.57%, running_loss: 24.32, current_lr: 0.000100\n",
      "epoch: 10, accuracy: 71.11%, running_loss: 19.00, current_lr: 0.000100\n",
      "epoch: 11, accuracy: 76.73%, running_loss: 14.23, current_lr: 0.000100\n",
      "epoch: 12, accuracy: 81.79%, running_loss: 11.20, current_lr: 0.000100\n",
      "epoch: 13, accuracy: 83.77%, running_loss: 10.16, current_lr: 0.000100\n",
      "epoch: 14, accuracy: 86.91%, running_loss: 7.70, current_lr: 0.000100\n",
      "epoch: 15, accuracy: 89.20%, running_loss: 6.81, current_lr: 0.000100\n",
      "epoch: 16, accuracy: 89.32%, running_loss: 6.39, current_lr: 0.000100\n",
      "epoch: 17, accuracy: 89.07%, running_loss: 6.72, current_lr: 0.000100\n",
      "epoch: 18, accuracy: 88.21%, running_loss: 8.62, current_lr: 0.000100\n",
      "epoch: 19, accuracy: 93.21%, running_loss: 4.20, current_lr: 0.000010\n",
      "epoch: 20, accuracy: 94.51%, running_loss: 3.03, current_lr: 0.000010\n",
      "epoch: 21, accuracy: 94.07%, running_loss: 3.44, current_lr: 0.000010\n",
      "epoch: 22, accuracy: 94.01%, running_loss: 3.50, current_lr: 0.000010\n",
      "epoch: 23, accuracy: 93.64%, running_loss: 3.63, current_lr: 0.000010\n",
      "epoch: 24, accuracy: 94.44%, running_loss: 3.00, current_lr: 0.000010\n",
      "epoch: 25, accuracy: 94.69%, running_loss: 3.27, current_lr: 0.000010\n",
      "epoch: 26, accuracy: 94.94%, running_loss: 2.99, current_lr: 0.000010\n",
      "epoch: 27, accuracy: 95.74%, running_loss: 2.92, current_lr: 0.000010\n",
      "epoch: 28, accuracy: 95.12%, running_loss: 2.77, current_lr: 0.000010\n",
      "epoch: 29, accuracy: 96.23%, running_loss: 2.35, current_lr: 0.000010\n",
      "epoch: 30, accuracy: 94.88%, running_loss: 2.61, current_lr: 0.000010\n",
      "epoch: 31, accuracy: 95.99%, running_loss: 2.68, current_lr: 0.000010\n",
      "epoch: 32, accuracy: 96.23%, running_loss: 2.32, current_lr: 0.000010\n",
      "epoch: 33, accuracy: 95.19%, running_loss: 2.84, current_lr: 0.000010\n",
      "epoch: 34, accuracy: 94.57%, running_loss: 2.95, current_lr: 0.000010\n",
      "epoch: 35, accuracy: 95.00%, running_loss: 2.76, current_lr: 0.000010\n",
      "epoch: 36, accuracy: 95.86%, running_loss: 2.06, current_lr: 0.000010\n",
      "epoch: 37, accuracy: 95.49%, running_loss: 2.46, current_lr: 0.000010\n",
      "epoch: 38, accuracy: 95.12%, running_loss: 2.68, current_lr: 0.000010\n",
      "epoch: 39, accuracy: 96.05%, running_loss: 2.16, current_lr: 0.000001\n",
      "accuracy on validation set: 84.81%\n"
     ]
    }
   ],
   "source": [
    "lr = 1e-4\n",
    "\n",
    "device = 'cuda:0'\n",
    "k_folds = 6\n",
    "kfold = KFold(n_splits=k_folds, shuffle=False)\n",
    "batch_size = 81\n",
    "loss_fn = nn.CrossEntropyLoss()\n",
    "\n",
    "fold_train_acc = []\n",
    "fold_val_acc = []\n",
    "\n",
    "for fold, (train_ids, val_ids) in enumerate(kfold.split(train_data)):\n",
    "    # 模型初始化\n",
    "    linear_model = nn.Sequential(\n",
    "        # nn.Linear(100, 200),\n",
    "        # nn.ReLU(),\n",
    "        # nn.Linear(200, 27)\n",
    "        nn.Linear(100, 400),\n",
    "        nn.ReLU(),\n",
    "        nn.Dropout(p=0.2),\n",
    "        nn.Linear(400, 600),\n",
    "        nn.ReLU(),\n",
    "        nn.Dropout(p=0.2),\n",
    "        nn.Linear(600, 200),\n",
    "        nn.ReLU(),\n",
    "        nn.Dropout(p=0.2),\n",
    "        nn.Linear(200, 27)\n",
    "    )\n",
    "    linear_model = from_model(linear_model, batch_size=81, input_shape=(1, 330, 100), \n",
    "                              add_spiking_output=True).to(device)\n",
    "    optimizer = torch.optim.Adam(linear_model.parameters(), lr)\n",
    "    scheduler = torch.optim.lr_scheduler.StepLR(optimizer, step_size=20, gamma=0.1)\n",
    "    # 分割数据集\n",
    "    train_sub = Subset(train_data, train_ids)\n",
    "    val_sub = Subset(train_data, val_ids)\n",
    "    # 创建数据加载器\n",
    "    train_loader = DataLoader(train_sub, batch_size, shuffle=True, drop_last=True)\n",
    "    val_loader  = DataLoader(val_sub, batch_size, drop_last=True)\n",
    "\n",
    "    # 训练模型\n",
    "    linear_model.train()\n",
    "    epochs = 40\n",
    "    for e in range(epochs):\n",
    "        running_loss = 0.\n",
    "        acc = 0\n",
    "        scheduler.step()\n",
    "        for i, (input, target) in enumerate(train_loader):\n",
    "            optimizer.zero_grad()\n",
    "            linear_model.reset_states()\n",
    "\n",
    "            input = input.to(device)\n",
    "            target = target.to(device)\n",
    "            output = linear_model(input)\n",
    "            sum_output = output.sum(1)\n",
    "            loss = loss_fn(sum_output, target)\n",
    "            loss.backward()\n",
    "            optimizer.step()\n",
    "\n",
    "            running_loss += loss\n",
    "\n",
    "            for j in range(batch_size):\n",
    "                if sum_output[j].argmax() == target[j]:\n",
    "                    acc += 1\n",
    "\n",
    "        print(\"epoch: %d, accuracy: %.2f%%, running_loss: %.2f, current_lr: %.6f\" \n",
    "              % (e, acc/len(train_sub)*100, running_loss, scheduler.get_last_lr()[0]) )\n",
    "    fold_train_acc.append(np.around(acc/len(train_sub)*100, 2))\n",
    "\n",
    "    # 验证模型\n",
    "    acc_num = 0\n",
    "    for i, (data, target) in enumerate(val_loader):\n",
    "        with torch.no_grad():\n",
    "            linear_model.reset_states()\n",
    "            data = data.to(device)\n",
    "            target = target.to(device)\n",
    "            output = linear_model(data)\n",
    "            sum_output = output.sum(1)\n",
    "\n",
    "        for j in range(batch_size):\n",
    "            if sum_output[j].argmax() == target[j]:\n",
    "                acc_num += 1\n",
    "    print(\"accuracy on validation set: %.2f%%\" % (acc_num/len(val_sub)*100))\n",
    "    fold_val_acc.append(np.around(acc_num/len(val_sub)*100, 2))"
   ]
  },
  {
   "cell_type": "code",
   "execution_count": 6,
   "metadata": {},
   "outputs": [
    {
     "name": "stdout",
     "output_type": "stream",
     "text": [
      "[95.86, 96.11, 93.7, 96.05]\n",
      "[86.11, 86.85, 84.81, 84.81]\n",
      "95.43\n",
      "85.645\n"
     ]
    }
   ],
   "source": [
    "print(fold_train_acc)\n",
    "print(fold_val_acc)\n",
    "\n",
    "sum = 0\n",
    "cnt = 0\n",
    "for i in fold_train_acc:\n",
    "    sum += i\n",
    "    cnt += 1\n",
    "print(sum/cnt)\n",
    "\n",
    "sum = 0\n",
    "cnt = 0\n",
    "for i in fold_val_acc:\n",
    "    sum += i\n",
    "    cnt += 1\n",
    "print(sum/cnt)"
   ]
  },
  {
   "cell_type": "code",
   "execution_count": 7,
   "metadata": {},
   "outputs": [],
   "source": [
    "model_path = './models/speed30-ct330.pth'\n",
    "torch.save(linear_model, model_path)"
   ]
  },
  {
   "cell_type": "markdown",
   "metadata": {},
   "source": [
    "Testing"
   ]
  },
  {
   "cell_type": "code",
   "execution_count": 8,
   "metadata": {},
   "outputs": [
    {
     "name": "stdout",
     "output_type": "stream",
     "text": [
      "accuracy on testing set: 92.22%\n"
     ]
    }
   ],
   "source": [
    "model = torch.load(model_path)\n",
    "test_loader  = DataLoader(test_data, batch_size, drop_last=True)\n",
    "\n",
    "acc_num = 0\n",
    "for i, (data, target) in enumerate(test_loader):\n",
    "    with torch.no_grad():\n",
    "        model.reset_states()\n",
    "        data = data.to(device)\n",
    "        target = target.to(device)\n",
    "        output = model(data)\n",
    "        sum_output = output.sum(1)\n",
    "\n",
    "    for j in range(batch_size):\n",
    "        if sum_output[j].argmax() == target[j]:\n",
    "            acc_num += 1\n",
    "print(\"accuracy on testing set: %.2f%%\" % (acc_num/len(test_data)*100))"
   ]
  },
  {
   "cell_type": "code",
   "execution_count": 14,
   "metadata": {},
   "outputs": [
    {
     "name": "stdout",
     "output_type": "stream",
     "text": [
      "10\n"
     ]
    }
   ],
   "source": [
    "g_x = 0\n",
    "def func():\n",
    "    global g_x\n",
    "    g_x = 10\n",
    "func()\n",
    "print(g_x)"
   ]
  },
  {
   "cell_type": "code",
   "execution_count": 16,
   "metadata": {},
   "outputs": [
    {
     "name": "stdout",
     "output_type": "stream",
     "text": [
      "10\n"
     ]
    }
   ],
   "source": [
    "def func1():\n",
    "    print(g_x)\n",
    "func1()"
   ]
  },
  {
   "cell_type": "code",
   "execution_count": null,
   "metadata": {},
   "outputs": [],
   "source": []
  }
 ],
 "metadata": {
  "kernelspec": {
   "display_name": "synsense-gpu",
   "language": "python",
   "name": "python3"
  },
  "language_info": {
   "codemirror_mode": {
    "name": "ipython",
    "version": 3
   },
   "file_extension": ".py",
   "mimetype": "text/x-python",
   "name": "python",
   "nbconvert_exporter": "python",
   "pygments_lexer": "ipython3",
   "version": "3.8.18"
  }
 },
 "nbformat": 4,
 "nbformat_minor": 2
}
