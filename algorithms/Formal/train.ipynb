{
 "cells": [
  {
   "cell_type": "code",
   "execution_count": 1,
   "metadata": {},
   "outputs": [],
   "source": [
    "import pickle\n",
    "import numpy as np\n",
    "import torch\n",
    "import torch.nn as nn\n",
    "from torch.utils.data import Dataset, DataLoader, random_split, Subset\n",
    "import torchvision\n",
    "import matplotlib.pyplot as plt\n",
    "import sinabs\n",
    "import sinabs.activation\n",
    "import sinabs.layers as sl\n",
    "from sinabs.from_torch import from_model\n",
    "import os"
   ]
  },
  {
   "cell_type": "markdown",
   "metadata": {},
   "source": [
    "Data"
   ]
  },
  {
   "cell_type": "code",
   "execution_count": 7,
   "metadata": {},
   "outputs": [],
   "source": [
    "class MyData(Dataset):\n",
    "    def __init__(self, root_dir):\n",
    "        self.root_dir = root_dir\n",
    "        self.data_path = os.listdir(self.root_dir)\n",
    "    \n",
    "    def __getitem__(self, idx):\n",
    "        data_name = self.data_path[idx]\n",
    "        data_item_path = os.path.join(self.root_dir, data_name)\n",
    "        with open(data_item_path, 'rb') as f:\n",
    "            data = np.load(f)\n",
    "\n",
    "        data = torch.from_numpy(data).float()\n",
    "        data = torch.transpose(data, 0, 1)\n",
    "\n",
    "        label = torch.tensor(eval(data_name[-5]), dtype=torch.long)\n",
    "        \n",
    "        return data, label\n",
    "\n",
    "    def __len__(self):\n",
    "        return len(self.data_path)"
   ]
  },
  {
   "cell_type": "code",
   "execution_count": 8,
   "metadata": {},
   "outputs": [],
   "source": [
    "root_dir_1 = 'F:\\Files\\PhD\\Braille\\Data/train'\n",
    "root_dir_2 = 'F:\\Files\\PhD\\Braille\\Data/test'\n",
    "\n",
    "train_data = MyData(root_dir_1)\n",
    "test_data  = MyData(root_dir_2)\n",
    "\n",
    "batch_size = 50\n",
    "train_loader = DataLoader(train_data, batch_size, shuffle=True)\n",
    "test_loader  = DataLoader(test_data, batch_size)"
   ]
  },
  {
   "cell_type": "code",
   "execution_count": 12,
   "metadata": {},
   "outputs": [
    {
     "data": {
      "text/plain": [
       "torch.Size([620, 100])"
      ]
     },
     "execution_count": 12,
     "metadata": {},
     "output_type": "execute_result"
    }
   ],
   "source": [
    "train_data[2][0].shape"
   ]
  },
  {
   "cell_type": "markdown",
   "metadata": {},
   "source": [
    "Model"
   ]
  },
  {
   "cell_type": "code",
   "execution_count": 14,
   "metadata": {},
   "outputs": [],
   "source": [
    "linear_model = nn.Sequential(\n",
    "    nn.Linear(100, 200),\n",
    "    nn.ReLU(),\n",
    "    nn.Linear(200, 400),\n",
    "    nn.ReLU(),\n",
    "    nn.Linear(400, 11)\n",
    ")\n",
    "linear_model = from_model(linear_model, batch_size=50, input_shape=(1, 620, 100), add_spiking_output=True)\n",
    "\n",
    "loss_fn = nn.CrossEntropyLoss()\n",
    "# lr = 1e-4\n",
    "# optimizer = torch.optim.Adam(linear_model.parameters(), lr)"
   ]
  },
  {
   "cell_type": "markdown",
   "metadata": {},
   "source": [
    "Training"
   ]
  },
  {
   "cell_type": "code",
   "execution_count": 26,
   "metadata": {},
   "outputs": [
    {
     "name": "stdout",
     "output_type": "stream",
     "text": [
      "epoch: 0, accuracy: 97.36%, running_loss: 1.54\n",
      "epoch: 1, accuracy: 98.18%, running_loss: 1.11\n",
      "epoch: 2, accuracy: 98.36%, running_loss: 0.86\n",
      "epoch: 3, accuracy: 98.27%, running_loss: 1.09\n",
      "epoch: 4, accuracy: 97.55%, running_loss: 1.38\n",
      "epoch: 5, accuracy: 98.73%, running_loss: 1.01\n",
      "epoch: 6, accuracy: 98.73%, running_loss: 0.93\n",
      "epoch: 7, accuracy: 98.55%, running_loss: 0.92\n",
      "epoch: 8, accuracy: 98.27%, running_loss: 1.03\n",
      "epoch: 9, accuracy: 98.64%, running_loss: 1.00\n"
     ]
    }
   ],
   "source": [
    "linear_model.train()\n",
    "lr = 1e-5\n",
    "optimizer = torch.optim.Adam(linear_model.parameters(), lr)\n",
    "acc = 0\n",
    "\n",
    "epochs = 10\n",
    "for e in range(epochs):\n",
    "    running_loss = 0.\n",
    "    for i, (input, target) in enumerate(train_loader):\n",
    "        optimizer.zero_grad()\n",
    "        linear_model.reset_states()\n",
    "\n",
    "        output = linear_model(input)\n",
    "        sum_output = output.sum(1)\n",
    "        loss = loss_fn(sum_output, target)\n",
    "        loss.backward()\n",
    "        optimizer.step()\n",
    "\n",
    "        running_loss += loss\n",
    "\n",
    "        for j in range(batch_size):\n",
    "            if sum_output[j].argmax() == target[j]:\n",
    "                acc += 1\n",
    "\n",
    "    print(\"epoch: %d, accuracy: %.2f%%, running_loss: %.2f\" % (e, acc/len(train_data)*100, running_loss) )\n",
    "    acc = 0"
   ]
  },
  {
   "cell_type": "code",
   "execution_count": 27,
   "metadata": {},
   "outputs": [],
   "source": [
    "model_path = './models/train.pth'\n",
    "torch.save(linear_model, model_path)"
   ]
  },
  {
   "cell_type": "code",
   "execution_count": 28,
   "metadata": {},
   "outputs": [],
   "source": [
    "f = torch.load(model_path)"
   ]
  },
  {
   "cell_type": "markdown",
   "metadata": {},
   "source": [
    "Testing"
   ]
  },
  {
   "cell_type": "code",
   "execution_count": 29,
   "metadata": {},
   "outputs": [
    {
     "name": "stdout",
     "output_type": "stream",
     "text": [
      "accuracy on testing set: 98.82%\n"
     ]
    }
   ],
   "source": [
    "acc_num = 0\n",
    "for i, (data, target) in enumerate(test_loader):\n",
    "    with torch.no_grad():\n",
    "        f.reset_states()\n",
    "        output = f(data)\n",
    "        sum_output = output.sum(1)\n",
    "\n",
    "    for j in range(batch_size):\n",
    "        if sum_output[j].argmax() == target[j]:\n",
    "            acc_num += 1\n",
    "print(\"accuracy on testing set: %.2f%%\" % (acc_num/len(test_data)*100))"
   ]
  }
 ],
 "metadata": {
  "kernelspec": {
   "display_name": "SynSense",
   "language": "python",
   "name": "python3"
  },
  "language_info": {
   "codemirror_mode": {
    "name": "ipython",
    "version": 3
   },
   "file_extension": ".py",
   "mimetype": "text/x-python",
   "name": "python",
   "nbconvert_exporter": "python",
   "pygments_lexer": "ipython3",
   "version": "3.8.18"
  }
 },
 "nbformat": 4,
 "nbformat_minor": 2
}
